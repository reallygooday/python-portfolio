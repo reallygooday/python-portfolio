{
 "cells": [
  {
   "cell_type": "markdown",
   "metadata": {},
   "source": [
    "# Machine Learning \n",
    "## Project: Predicting Boston Housing Prices"
   ]
  },
  {
   "cell_type": "markdown",
   "metadata": {},
   "source": [
    "## Getting Started\n",
    "\n",
    "\n",
    "The dataset for this project originates from the [UCI Machine Learning Repository](https://archive.ics.uci.edu/ml/datasets/Housing). The Boston housing data was collected in 1978 and each of the 506 entries represent aggregated data about 14 features for homes from various suburbs in Boston, Massachusetts. For the purposes of this project, the following preprocessing steps have been made to the dataset:\n",
    "- 16 data points have an `'MEDV'` value of 50.0. These data points likely contain **missing or censored values** and have been removed.\n",
    "- 1 data point has an `'RM'` value of 8.78. This data point can be considered an **outlier** and has been removed.\n",
    "- The features `'RM'`, `'LSTAT'`, `'PTRATIO'`, and `'MEDV'` are essential. The remaining **non-relevant features** have been excluded.\n",
    "- The feature `'MEDV'` has been **multiplicatively scaled** to account for 35 years of market inflation.\n",
    "\n"
   ]
  },
  {
   "cell_type": "code",
   "execution_count": 42,
   "metadata": {},
   "outputs": [
    {
     "name": "stdout",
     "output_type": "stream",
     "text": [
      "Boston housing dataset has 489 data points with 4 variables each.\n"
     ]
    }
   ],
   "source": [
    "# Importing libraries necessary for this project\n",
    "import numpy as np\n",
    "import pandas as pd\n",
    "from sklearn.cross_validation import ShuffleSplit\n",
    "\n",
    "# Importing supplementary visualizations code visuals.py\n",
    "import visuals as vs\n",
    "\n",
    "%matplotlib inline\n",
    "\n",
    "# Loading the Boston housing dataset\n",
    "data = pd.read_csv('housing.csv')\n",
    "prices = data['MEDV']\n",
    "features = data.drop('MEDV', axis = 1)\n",
    "    \n",
    "print \"Boston housing dataset has {} data points with {} variables each.\".format(*data.shape)"
   ]
  },
  {
   "cell_type": "markdown",
   "metadata": {},
   "source": [
    "## Data Exploration"
   ]
  },
  {
   "cell_type": "markdown",
   "metadata": {},
   "source": [
    "### Implementation: Calculate Statistics"
   ]
  },
  {
   "cell_type": "code",
   "execution_count": 93,
   "metadata": {},
   "outputs": [
    {
     "name": "stdout",
     "output_type": "stream",
     "text": [
      "Statistics for Boston housing dataset:\n",
      "\n",
      "Minimum price: $105,000.00\n",
      "Maximum price: $1,024,800.00\n",
      "Mean price: $454,342.94\n",
      "Median price $438,900.00\n",
      "Standard deviation of prices: $165,171.13\n"
     ]
    }
   ],
   "source": [
    "# TODO: Minimum price of the data\n",
    "minimum_price = np.min(prices)\n",
    "\n",
    "# TODO: Maximum price of the data\n",
    "maximum_price = np.max(prices)\n",
    "\n",
    "# TODO: Mean price of the data\n",
    "mean_price = np.mean(prices)\n",
    "\n",
    "# TODO: Median price of the data\n",
    "median_price = np.median(prices)\n",
    "\n",
    "# TODO: Standard deviation of prices of the data\n",
    "std_price = np.std(prices)\n",
    "\n",
    "# Showing the calculated statistics\n",
    "print \"Statistics for Boston housing dataset:\\n\"\n",
    "print \"Minimum price: ${:,.2f}\".format(minimum_price)\n",
    "print \"Maximum price: ${:,.2f}\".format(maximum_price)\n",
    "print \"Mean price: ${:,.2f}\".format(mean_price)\n",
    "print \"Median price ${:,.2f}\".format(median_price)\n",
    "print \"Standard deviation of prices: ${:,.2f}\".format(std_price)"
   ]
  },
  {
   "cell_type": "markdown",
   "metadata": {},
   "source": [
    "### Question 1 - Feature Observation\n",
    "As a reminder, we are using three features from the Boston housing dataset: `'RM'`, `'LSTAT'`, and `'PTRATIO'`. For each data point (neighborhood):\n",
    "- `'RM'` is the average number of rooms among homes in the neighborhood.\n",
    "- `'LSTAT'` is the percentage of homeowners in the neighborhood considered \"lower class\" (working poor).\n",
    "- `'PTRATIO'` is the ratio of students to teachers in primary and secondary schools in the neighborhood.\n",
    "\n",
    "\n",
    "** Using your intuition, for each of the three features above, do you think that an increase in the value of that feature would lead to an **increase** in the value of `'MEDV'` or a **decrease** in the value of `'MEDV'`? Justify your answer for each.**\n",
    "\n",
    "\n",
    "* Would you expect a home that has an `'RM'` value(number of rooms) of 6 be worth more or less than a home that has an `'RM'` value of 7?\n",
    "* Would you expect a neighborhood that has an `'LSTAT'` value(percent of lower class workers) of 15 have home prices be worth more or less than a neighborhood that has an `'LSTAT'` value of 20?\n",
    "* Would you expect a neighborhood that has an `'PTRATIO'` value(ratio of students to teachers) of 10 have home prices be worth more or less than a neighborhood that has an `'PTRATIO'` value of 15?"
   ]
  },
  {
   "cell_type": "markdown",
   "metadata": {},
   "source": [
    "**Answer: \n",
    "\n",
    "I expect a home that has an'RM' value(number of rooms) of 6 be worth less than a home that has an'RM' value of 7. I think that an increase in the value of 'RM' would lead to an increase in the value of 'MEDV'. It seems intuitive that more rooms would mean more space, higher heating/cooling costs and more expensive home.\n",
    "\n",
    "Contrarily, more lower class workers and less teachers would mean less desirable, poor neighborhood and cheap home.\n",
    "In that order, an increase in the both values of 'LSTAT' and 'PTRATIO' would lead to an decrease in the value of 'MEDV'. \n",
    "\n",
    "Respectively, I expect a neighborhood that has an 'LSTAT' value(percent of lower class workers) of 15 have home prices be worth more than a neighborhood that has an 'LSTAT' value of 20. Also a neighborhood that has an 'PTRATIO' value(ratio of students to teachers) of 10 have home prices be worth more than a neighborhood that has an 'PTRATIO' value of 15. \n",
    "\n",
    "**"
   ]
  },
  {
   "cell_type": "markdown",
   "metadata": {},
   "source": [
    "----\n",
    "\n",
    "## Developing a Model"
   ]
  },
  {
   "cell_type": "markdown",
   "metadata": {},
   "source": [
    "### Implementation: Define a Performance Metric"
   ]
  },
  {
   "cell_type": "code",
   "execution_count": 64,
   "metadata": {
    "collapsed": true
   },
   "outputs": [],
   "source": [
    "# TODO: Importing 'r2_score'\n",
    "from sklearn.metrics import r2_score\n",
    "\n",
    "def performance_metric(y_true, y_predict):\n",
    "    \"\"\" Calculates and returns the performance score between \n",
    "        true and predicted values based on the metric chosen. \"\"\"\n",
    "    \n",
    "    # TODO: Calculating the performance score between 'y_true' and 'y_predict'\n",
    "    score = r2_score(y_true, y_predict)\n",
    "    \n",
    "    # Returning the score\n",
    "    return score"
   ]
  },
  {
   "cell_type": "markdown",
   "metadata": {},
   "source": [
    "### Question 2 - Goodness of Fit\n",
    "Assume that a dataset contains five data points and a model made the following predictions for the target variable:\n",
    "\n",
    "| True Value | Prediction |\n",
    "| :-------------: | :--------: |\n",
    "| 3.0 | 2.5 |\n",
    "| -0.5 | 0.0 |\n",
    "| 2.0 | 2.1 |\n",
    "| 7.0 | 7.8 |\n",
    "| 4.2 | 5.3 |\n"
   ]
  },
  {
   "cell_type": "code",
   "execution_count": 67,
   "metadata": {},
   "outputs": [
    {
     "name": "stdout",
     "output_type": "stream",
     "text": [
      "Model has a coefficient of determination, R^2, of 0.923.\n"
     ]
    }
   ],
   "source": [
    "# Calculating the performance of this model\n",
    "score = performance_metric([3, -0.5, 2, 7, 4.2], [2.5, 0.0, 2.1, 7.8, 5.3])\n",
    "print \"Model has a coefficient of determination, R^2, of {:.3f}.\".format(score)"
   ]
  },
  {
   "cell_type": "markdown",
   "metadata": {},
   "source": [
    "* Would you consider this model to have successfully captured the variation of the target variable? \n",
    "* Why or why not?\n",
    "\n",
    "** Hint: **  The R2 score is the proportion of the variance in the dependent variable that is predictable from the independent variable. In other words:\n",
    "* R2 score of 0 means that the dependent variable cannot be predicted from the independent variable.\n",
    "* R2 score of 1 means the dependent variable can be predicted from the independent variable.\n",
    "* R2 score between 0 and 1 indicates the extent to which the dependent variable is predictable. An \n",
    "* R2 score of 0.40 means that 40 percent of the variance in Y is predictable from X."
   ]
  },
  {
   "cell_type": "markdown",
   "metadata": {},
   "source": [
    "**Answer:\n",
    "\n",
    "This model have successfully captured the variation of the target variable. Because R2 score of 0.923 means that 92 percent of the variance in the dependent variable is predictable from the independent variable. This model is good at making predictions.\n",
    "\n",
    "**"
   ]
  },
  {
   "cell_type": "markdown",
   "metadata": {},
   "source": [
    "### Implementation: Shuffle and Split Data"
   ]
  },
  {
   "cell_type": "code",
   "execution_count": 96,
   "metadata": {},
   "outputs": [
    {
     "name": "stdout",
     "output_type": "stream",
     "text": [
      "Training and testing split was successful.\n"
     ]
    }
   ],
   "source": [
    "# TODO: Importing 'train_test_split'\n",
    "from sklearn.model_selection import train_test_split\n",
    "\n",
    "# TODO: Split the data into training and testing subsets\n",
    "X_train, X_test, y_train, y_test = train_test_split(features, prices, test_size=0.2, random_state=42)\n",
    "\n",
    "print \"Training and testing split was successful.\""
   ]
  },
  {
   "cell_type": "markdown",
   "metadata": {},
   "source": [
    "### Question 3 - Training and Testing\n",
    "\n",
    "* What is the benefit to splitting a dataset into some ratio of training and testing subsets for a learning algorithm?"
   ]
  },
  {
   "cell_type": "markdown",
   "metadata": {},
   "source": [
    "**Answer: \n",
    "Splitting a dataset into some ratio of training and testing subsets for a learning algorithm gives us a good level of accuracy for our predictions. It prevents from overfitting and underfitting. Overfitting and underfitting will lower accuracy for our learning algorithm. \n",
    "When a learning algorithm does not fit to the training data set this will result in underfitting. When a learning algorithm fits too much to the training data set this will result in overfitting.    \n",
    "**"
   ]
  },
  {
   "cell_type": "markdown",
   "metadata": {},
   "source": [
    "\n",
    "## Analyzing Model Performance"
   ]
  },
  {
   "cell_type": "markdown",
   "metadata": {},
   "source": [
    "### Learning Curves\n"
   ]
  },
  {
   "cell_type": "code",
   "execution_count": 92,
   "metadata": {
    "scrolled": true
   },
   "outputs": [
    {
     "data": {
      "image/png": "[encoded data removed]",
      "text/plain": [
       "<matplotlib.figure.Figure at 0x10f7cfe10>"
      ]
     },
     "metadata": {},
     "output_type": "display_data"
    }
   ],
   "source": [
    "# Producing learning curves for varying training set sizes and maximum depths\n",
    "vs.ModelLearning(features, prices)"
   ]
  },
  {
   "cell_type": "markdown",
   "metadata": {},
   "source": [
    "### Question 4 - Learning the Data\n",
    "* Choose one of the graphs above and state the maximum depth for the model. \n",
    "* What happens to the score of the training curve as more training points are added? What about the testing curve? \n",
    "* Would having more training points benefit the model? \n"
   ]
  },
  {
   "cell_type": "markdown",
   "metadata": {},
   "source": [
    "**Answer:\n",
    "It looks that the first graph with the max_depth=1 has the highest level of accuracy. As more training points are added the score of the training curve decreases and the score of the testing curve increases before they reach 100 data points. From 100 data points to 300 data points we can observe small fluctuations in the scores of the training and testing curves.\n",
    "Having more training points than 300 would not benefit the model because the training and testing curves are converging when they reach 300 data points. \n",
    "**"
   ]
  },
  {
   "cell_type": "markdown",
   "metadata": {},
   "source": [
    "### Complexity Curves"
   ]
  },
  {
   "cell_type": "code",
   "execution_count": 83,
   "metadata": {},
   "outputs": [
    {
     "data": {
      "image/png": "[encoded data removed]",
      "text/plain": [
       "<matplotlib.figure.Figure at 0x10f7f0b90>"
      ]
     },
     "metadata": {},
     "output_type": "display_data"
    }
   ],
   "source": [
    "vs.ModelComplexity(X_train, y_train)"
   ]
  },
  {
   "cell_type": "markdown",
   "metadata": {},
   "source": [
    "### Question 5 - Bias-Variance Tradeoff\n",
    "* When the model is trained with a maximum depth of 1, does the model suffer from high bias or from high variance? \n",
    "* How about when the model is trained with a maximum depth of 10? What visual cues in the graph justify your conclusions?"
   ]
  },
  {
   "cell_type": "markdown",
   "metadata": {},
   "source": [
    "**Answer:\n",
    "When the model is trained with a maximum depth of 1, the model suffers from high bias, underfitting, according low validation scores.\n",
    "When the model is trained with a maximum depth of 10, the model suffers from high variance, overfitting, according high training scores. \n",
    "**"
   ]
  },
  {
   "cell_type": "markdown",
   "metadata": {},
   "source": [
    "### Question 6 - Best-Guess Optimal Model\n",
    "* Which maximum depth do you think results in a model that best generalizes to unseen data? \n",
    "* What intuition lead you to this answer?"
   ]
  },
  {
   "cell_type": "markdown",
   "metadata": {},
   "source": [
    "**Answer: \n",
    "The maximum depth of 4 results in a model that best generalizes to unseen data because this depth gives the best, highest validation score of 0.75.\n",
    "**"
   ]
  },
  {
   "cell_type": "markdown",
   "metadata": {},
   "source": [
    "\n",
    "## Evaluating Model Performance"
   ]
  },
  {
   "cell_type": "markdown",
   "metadata": {},
   "source": [
    "### Question 7 - Grid Search\n",
    "* What is the grid search technique?\n",
    "* How it can be applied to optimize a learning algorithm?"
   ]
  },
  {
   "cell_type": "markdown",
   "metadata": {},
   "source": [
    "**Answer:\n",
    "A Grid Search technique is an approach to evaluate a set of parameter values specified in a grid when performance depends on adjustable parameters.\n",
    "Models can have many parameters. Finding the best set of parameters will optimize models.\n",
    "In our example, the parameter \"maximum depth\" with value of 4 gives the best performance.\n",
    "**"
   ]
  },
  {
   "cell_type": "markdown",
   "metadata": {},
   "source": [
    "### Question 8 - Cross-Validation\n",
    "\n",
    "* What is the k-fold cross-validation training technique? \n",
    "\n",
    "* What benefit does this technique provide for grid search when optimizing a model?"
   ]
  },
  {
   "cell_type": "markdown",
   "metadata": {},
   "source": [
    "**Answer:\n",
    "\n",
    "The cross-validation training technique solves the problem with splitting a data set into training and testing subsets. It is not easy to decide what fraction of data should be in the training subset and what fraction of data should be in the testing subset. The problem is to maximize both of the subsets. We want to maximize a number of data points to get the best performance and validation. But every data point we use for training is lost for testing. The cross validation training technique solves the dilemma by using all the data for training and testing. We split data into same size subsets, folds. A fold is a subset of data points. K is a parameter we set to do the K-fold cv test. 1 fold we use as validation data and (K-1) number of folds we use as training data. We'll try all combination by choosing different folds for training and testing. We'll run K number separate learning experiments.( For example, K = 9. We'll run 9 experiments. In each of 9, we'll pick 1 as our testing set. We'll train our model, and we'll test the performance on the testing set. At the end, we'll have 9 trained and tested models.) Then we'll average the validation scores. The model with the lowest error will be best to perform predictions.\n",
    "\n",
    "\n",
    "\n",
    "The K-fold cross validation training technique is an approach to evaluate models by randomly partitioning the main data sets into K same size training and testing data subsets.\n",
    "\n",
    "The Grid Search has many variations in the optimizing a model for different partitions of the data. The K-fold cross validation training technique reduces the variance, so the optimizing a model doesn't depend on the patitioning of the data.\n",
    "**"
   ]
  },
  {
   "cell_type": "markdown",
   "metadata": {},
   "source": [
    "### Implementation: Fitting a Model"
   ]
  },
  {
   "cell_type": "code",
   "execution_count": 97,
   "metadata": {
    "collapsed": true
   },
   "outputs": [],
   "source": [
    "# TODO: Importing 'make_scorer', 'DecisionTreeRegressor', and 'GridSearchCV'\n",
    "from sklearn.metrics import make_scorer\n",
    "from sklearn.tree import DecisionTreeRegressor\n",
    "from sklearn.model_selection import GridSearchCV\n",
    "\n",
    "def fit_model(X, y):\n",
    "    \"\"\" Performs grid search over the 'max_depth' parameter for a \n",
    "        decision tree regressor trained on the input data [X, y]. \"\"\"\n",
    "    \n",
    "    # Creating cross-validation sets from the training data\n",
    "    cv_sets = ShuffleSplit(X.shape[0], n_iter = 10, test_size = 0.20, random_state = 2)\n",
    "\n",
    "    # TODO: Creating a decision tree regressor object\n",
    "    regressor = DecisionTreeRegressor(random_state=0)\n",
    "\n",
    "    # TODO: Creating a dictionary for the parameter 'max_depth' with a range from 1 to 10\n",
    "    params = {'max_depth' : range(1,11)}\n",
    "\n",
    "    # TODO: Transforming 'performance_metric' into a scoring function using 'make_scorer' \n",
    "    scoring_fnc = make_scorer(performance_metric)\n",
    "\n",
    "    # TODO: Creating the grid search cv object --> GridSearchCV()\n",
    "    # Including the right parameters in the object:\n",
    "    # (estimator, param_grid, scoring, cv) which have values 'regressor', 'params', 'scoring_fnc', and 'cv_sets' respectively.\n",
    "    grid = GridSearchCV(estimator=regressor, param_grid = params, scoring = scoring_fnc, cv = cv_sets)\n",
    "\n",
    "    # Fitting the grid search object to the data to compute the optimal model\n",
    "    grid = grid.fit(X, y)\n",
    "    \n",
    "    #grid search\n",
    "    print pd.DataFrame(grid.cv_results_)\n",
    "\n",
    "    # Returning the optimal model after fitting the data\n",
    "    return grid.best_estimator_"
   ]
  },
  {
   "cell_type": "markdown",
   "metadata": {},
   "source": [
    "### Making Predictions"
   ]
  },
  {
   "cell_type": "markdown",
   "metadata": {},
   "source": [
    "### Question 9 - Optimal Model\n",
    "\n",
    "* What maximum depth does the optimal model have? How does this result compare to your guess in **Question 6**?  \n"
   ]
  },
  {
   "cell_type": "code",
   "execution_count": 90,
   "metadata": {
    "scrolled": true
   },
   "outputs": [
    {
     "name": "stdout",
     "output_type": "stream",
     "text": [
      "   mean_fit_time  mean_score_time  mean_test_score  mean_train_score  \\\n",
      "0       0.001468         0.000478         0.413184          0.458019   \n",
      "1       0.001184         0.000388         0.658641          0.726948   \n",
      "2       0.000995         0.000320         0.753116          0.827421   \n",
      "3       0.001020         0.000323         0.762309          0.870146   \n",
      "4       0.000988         0.000301         0.733686          0.904881   \n",
      "5       0.001039         0.000301         0.713943          0.932563   \n",
      "6       0.001110         0.000303         0.695388          0.954113   \n",
      "7       0.001220         0.000335         0.698613          0.968265   \n",
      "8       0.001251         0.000313         0.689981          0.980266   \n",
      "9       0.001406         0.000347         0.669957          0.988948   \n",
      "\n",
      "  param_max_depth              params  rank_test_score  split0_test_score  \\\n",
      "0               1   {u'max_depth': 1}               10           0.491221   \n",
      "1               2   {u'max_depth': 2}                9           0.658074   \n",
      "2               3   {u'max_depth': 3}                2           0.753772   \n",
      "3               4   {u'max_depth': 4}                1           0.757568   \n",
      "4               5   {u'max_depth': 5}                3           0.743666   \n",
      "5               6   {u'max_depth': 6}                4           0.728676   \n",
      "6               7   {u'max_depth': 7}                6           0.745021   \n",
      "7               8   {u'max_depth': 8}                5           0.767583   \n",
      "8               9   {u'max_depth': 9}                7           0.774950   \n",
      "9              10  {u'max_depth': 10}                8           0.760000   \n",
      "\n",
      "   split0_train_score  split1_test_score       ...         split7_test_score  \\\n",
      "0            0.444723           0.420646       ...                  0.468055   \n",
      "1            0.733489           0.704961       ...                  0.669480   \n",
      "2            0.829073           0.743136       ...                  0.796997   \n",
      "3            0.872798           0.783456       ...                  0.800311   \n",
      "4            0.900439           0.779166       ...                  0.726585   \n",
      "5            0.929034           0.804500       ...                  0.724673   \n",
      "6            0.948754           0.752557       ...                  0.734748   \n",
      "7            0.964100           0.766919       ...                  0.745570   \n",
      "8            0.978306           0.759877       ...                  0.697745   \n",
      "9            0.988355           0.731254       ...                  0.705912   \n",
      "\n",
      "   split7_train_score  split8_test_score  split8_train_score  \\\n",
      "0            0.451558           0.416328            0.468414   \n",
      "1            0.723732           0.649375            0.738677   \n",
      "2            0.827831           0.819009            0.822872   \n",
      "3            0.871536           0.820703            0.863000   \n",
      "4            0.903402           0.785007            0.902803   \n",
      "5            0.925937           0.775257            0.932082   \n",
      "6            0.951403           0.781370            0.954198   \n",
      "7            0.967125           0.778229            0.966447   \n",
      "8            0.980210           0.767220            0.975756   \n",
      "9            0.988763           0.721603            0.984011   \n",
      "\n",
      "   split9_test_score  split9_train_score  std_fit_time  std_score_time  \\\n",
      "0           0.426362            0.459137      0.000424        0.000138   \n",
      "1           0.660314            0.726695      0.000263        0.000101   \n",
      "2           0.757555            0.825695      0.000192        0.000060   \n",
      "3           0.772538            0.866128      0.000113        0.000028   \n",
      "4           0.770663            0.905109      0.000061        0.000002   \n",
      "5           0.746714            0.936563      0.000060        0.000002   \n",
      "6           0.724913            0.957195      0.000071        0.000002   \n",
      "7           0.691810            0.971649      0.000193        0.000048   \n",
      "8           0.722584            0.983806      0.000220        0.000022   \n",
      "9           0.729567            0.992049      0.000235        0.000058   \n",
      "\n",
      "   std_test_score  std_train_score  \n",
      "0        0.044441         0.007156  \n",
      "1        0.031425         0.007267  \n",
      "2        0.049020         0.007339  \n",
      "3        0.045230         0.006999  \n",
      "4        0.070402         0.004805  \n",
      "5        0.084829         0.003834  \n",
      "6        0.090494         0.003283  \n",
      "7        0.092045         0.003231  \n",
      "8        0.099725         0.003255  \n",
      "9        0.092019         0.002591  \n",
      "\n",
      "[10 rows x 31 columns]\n",
      "Parameter 'max_depth' is 4 for the optimal model.\n"
     ]
    }
   ],
   "source": [
    "# Fitting the training data to the model using grid search\n",
    "reg = fit_model(X_train, y_train)\n",
    "\n",
    "# Producing the value for 'max_depth'\n",
    "print \"Parameter 'max_depth' is {} for the optimal model.\".format(reg.get_params()['max_depth'])"
   ]
  },
  {
   "cell_type": "markdown",
   "metadata": {},
   "source": [
    "\n",
    "**Answer: \n",
    "\n",
    "My guess was correct. The optimal model has a 'max_depth' parameter with the value of 4.\n",
    "\n",
    "**"
   ]
  },
  {
   "cell_type": "markdown",
   "metadata": {},
   "source": [
    "### Question 10 - Predicting Selling Prices\n",
    "Imagine that you were a real estate agent in the Boston area looking to use this model to help price homes owned by your clients that they wish to sell. You have collected the following information from three of your clients:\n",
    "\n",
    "| Feature | Client 1 | Client 2 | Client 3 |\n",
    "| :---: | :---: | :---: | :---: |\n",
    "| Total number of rooms in home | 5 rooms | 4 rooms | 8 rooms |\n",
    "| Neighborhood poverty level (as %) | 17% | 32% | 3% |\n",
    "| Student-teacher ratio of nearby schools | 15-to-1 | 22-to-1 | 12-to-1 |\n",
    "\n",
    "* What price would you recommend each client sell his/her home at? \n",
    "* Do these prices seem reasonable given the values for the respective features? \n"
   ]
  },
  {
   "cell_type": "code",
   "execution_count": 98,
   "metadata": {},
   "outputs": [
    {
     "name": "stdout",
     "output_type": "stream",
     "text": [
      "Predicted selling price for Client 1's home: $403,025.00\n",
      "Predicted selling price for Client 2's home: $237,478.72\n",
      "Predicted selling price for Client 3's home: $931,636.36\n"
     ]
    }
   ],
   "source": [
    "# Producing a matrix for client data\n",
    "client_data = [[5, 17, 15], # Client 1\n",
    "               [4, 32, 22], # Client 2\n",
    "               [8, 3, 12]]  # Client 3\n",
    "\n",
    "# Showing predictions\n",
    "for i, price in enumerate(reg.predict(client_data)):\n",
    "    print \"Predicted selling price for Client {}'s home: ${:,.2f}\".format(i+1, price)"
   ]
  },
  {
   "cell_type": "markdown",
   "metadata": {},
   "source": [
    "**Answer:\n",
    "\n",
    "\n",
    "Statistics for Boston housing dataset:\n",
    "Minimum price: \\$105,000.00\n",
    "Maximum price: \\$1,024,800.00\n",
    "Mean price: \\$454,342.94\n",
    "Median price \\$438,900.00\n",
    "Standard deviation of prices: \\$165,171.13\n",
    "\n",
    "\n",
    "I would recommend each client sell his/her home at the predicted selling prices accourding our predictions made by optimized model:\n",
    "\n",
    "Predicted selling price for Client 1's home: \\$403,025.00\n",
    "Predicted selling price for Client 2's home: \\$237,478.72\n",
    "Predicted selling price for Client 3's home: \\$931,636.36\n",
    "\n",
    "These prices seem very reasonable given the values for the respective features and considering the statistics above for Boston housing dataset. \n",
    "\n",
    "Predicted selling price for Client 3's home \\$931,636.36 is near Maximum price \\$1,024,800.00. Because\n",
    "Client 3 is selling home with the best following features:\n",
    "the highest number of rooms - 8, \n",
    "the lowest percentage of homeowners in the poor neighborhood - 3%,\n",
    "the the lowest ratio of students to teachers - 12.\n",
    "\n",
    "Predicted selling price for Client 2's home \\$237,478.72 is near Minimum price: \\$105,000.00. Because\n",
    "Client 2 is selling home with the worst following features:\n",
    "the lowest number of rooms - 4, \n",
    "the highest percentage of homeowners in the poor neighborhood - 32%,\n",
    "the the highest ratio of students to teachers - 22.\n",
    "\n",
    "Predicted selling price for Client 1's home \\$403,025.00 is near Mean price: \\$454,342.94. Because\n",
    "Client 1 is selling home with the average following features:\n",
    "the average number of rooms - 5, \n",
    "the average percentage of homeowners in the poor neighborhood - 17%,\n",
    "the the average ratio of students to teachers - 15.\n",
    "\n",
    "**"
   ]
  },
  {
   "cell_type": "markdown",
   "metadata": {},
   "source": [
    "### Sensitivity\n",
    "An optimal model is not necessarily a robust model. Sometimes, a model is either too complex or too simple to sufficiently generalize to new data. Sometimes, a model could use a learning algorithm that is not appropriate for the structure of the data given. Other times, the data itself could be too noisy or contain too few samples to allow a model to adequately capture the target variable — i.e., the model is underfitted. "
   ]
  },
  {
   "cell_type": "code",
   "execution_count": 87,
   "metadata": {},
   "outputs": [
    {
     "name": "stdout",
     "output_type": "stream",
     "text": [
      "Trial 1: $391,183.33\n",
      "Trial 2: $424,935.00\n",
      "Trial 3: $415,800.00\n",
      "Trial 4: $420,622.22\n",
      "Trial 5: $418,377.27\n",
      "Trial 6: $411,931.58\n",
      "Trial 7: $399,663.16\n",
      "Trial 8: $407,232.00\n",
      "Trial 9: $351,577.61\n",
      "Trial 10: $413,700.00\n",
      "\n",
      "Range in prices: $73,357.39\n"
     ]
    }
   ],
   "source": [
    "vs.PredictTrials(features, prices, fit_model, client_data)"
   ]
  },
  {
   "cell_type": "markdown",
   "metadata": {},
   "source": [
    "### Question 11 - Applicability\n",
    "\n",
    "* In a few sentences, discuss whether the constructed model should or should not be used in a real-world setting.  \n",
    "\n",
    "Some questions to answering:\n",
    "- How relevant today is data that was collected from 1978? How important is inflation?\n",
    "- Are the features present in the data sufficient to describe a home? Do you think factors like quality of apppliances in the home, square feet of the plot area, presence of pool or not etc should factor in?\n",
    "- Is the model robust enough to make consistent predictions?\n",
    "- Would data collected in an urban city like Boston be applicable in a rural city?\n",
    "- Is it fair to judge the price of an individual home based on the characteristics of the entire neighborhood?"
   ]
  },
  {
   "cell_type": "markdown",
   "metadata": {},
   "source": [
    "**Answer:\n",
    "\n",
    "\"\\$1000000 in 1978 has the same purchasing power as \\$3,965,043.56 in 2017. \n",
    "The total inflation rate from 1978 to 2017 is 296.50436%. The average inflation rate from 1978 to 2017 is 3.59521%.\"\n",
    "\n",
    "Inflation makes the data collected from 1978 not very relevant. However, it helps to observe some common features and to find general tendencies.\n",
    "\n",
    "The features present in the data are not sufficient to describe a home. I think, factors like presence of garage, garden, gym, basement, balcony, fireplace or not, Age of home, Number of Levels etc should factor in.\n",
    "\n",
    "The good performace of our model proves that it robust enough to make consistent predictions.\n",
    "\n",
    "The data collected in a urban city like Boston can not be applicable in a rural city because of the difference in features like public transport, level of noise in the area, distance to the city center or to the nearest airport, population density, air polution level.\n",
    "\n",
    "It is fair to judge the price of an individual home based on the characteristics of the entire neighborhood. For example, a high level of crime in the poor neighborhoods decreases any home value in the area.\n",
    "**"
   ]
  }
 ],
 "metadata": {
  "anaconda-cloud": {},
  "kernelspec": {
   "display_name": "Python 2",
   "language": "python",
   "name": "python2"
  },
  "language_info": {
   "codemirror_mode": {
    "name": "ipython",
    "version": 2
   },
   "file_extension": ".py",
   "mimetype": "text/x-python",
   "name": "python",
   "nbconvert_exporter": "python",
   "pygments_lexer": "ipython2",
   "version": "2.7.13"
  }
 },
 "nbformat": 4,
 "nbformat_minor": 1
}

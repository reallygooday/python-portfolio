{
 "cells": [
  {
   "cell_type": "markdown",
   "metadata": {},
   "source": [
    "\n",
    "\n",
    "# Machine Learning\n",
    "\n",
    "## Titanic Survival Exploration / Project Review\n",
    "\n",
    "Created: 9 July 2017"
   ]
  },
  {
   "cell_type": "markdown",
   "metadata": {},
   "source": [
    "Please consider the following link that includes many model solutions for the Titanic dataset. https://www.kaggle.com/c/titanic/kernels"
   ]
  },
  {
   "cell_type": "markdown",
   "metadata": {},
   "source": [
    "###  Answers to Each Question"
   ]
  },
  {
   "cell_type": "markdown",
   "metadata": {},
   "source": [
    "> The predictions_0 function has been run and the accuracy of the predictions is reported."
   ]
  },
  {
   "cell_type": "markdown",
   "metadata": {},
   "source": [
    "The predictions_0 function provides the appropriate accuracy."
   ]
  },
  {
   "cell_type": "markdown",
   "metadata": {},
   "source": [
    "> The predictions_1 function has been correctly implemented. The expected accuracy of the predictions is reported."
   ]
  },
  {
   "cell_type": "markdown",
   "metadata": {},
   "source": [
    "> The predictions_2 function has been correctly implemented. The expected accuracy of the predictions is reported."
   ]
  },
  {
   "cell_type": "markdown",
   "metadata": {},
   "source": [
    "Well done for using the appropriate conditioning that provides the appropriate accuracy."
   ]
  },
  {
   "cell_type": "markdown",
   "metadata": {},
   "source": [
    "> The predictions_3 function has been correctly implemented and obtains a prediction accuracy of at least 80%. The approach to the task has been documented, including features that were explored and intermediate steps taken to complete the function."
   ]
  },
  {
   "cell_type": "markdown",
   "metadata": {},
   "source": [
    "It is a good approach to consider different subcategories that might increase the overall information of the model. It is awesome that you also consider subcategories with low survival rate."
   ]
  },
  {
   "cell_type": "markdown",
   "metadata": {},
   "source": [
    "> A valid scenario where supervised learning can be applied is reported. A clear outcome variable and at least two potential predictor variables are identified as part of the description."
   ]
  },
  {
   "cell_type": "markdown",
   "metadata": {},
   "source": [
    "You are correct, supervised learning can definitely be applied to predict What word makes a book popular .\n",
    "You might find this link useful, it includes different models implemented in Python. These models can be employed to solve different or even similar problems, http://scikit-learn.org/stable/supervised_learning.html\n",
    "When considering which model is more appropriate, this link can be very useful guideline http://scikit-learn.org/stable/tutorial/machine_learning_map/"
   ]
  }
 ],
 "metadata": {
  "kernelspec": {
   "display_name": "Python 2",
   "language": "python",
   "name": "python2"
  },
  "language_info": {
   "codemirror_mode": {
    "name": "ipython",
    "version": 2
   },
   "file_extension": ".py",
   "mimetype": "text/x-python",
   "name": "python",
   "nbconvert_exporter": "python",
   "pygments_lexer": "ipython2",
   "version": "2.7.13"
  }
 },
 "nbformat": 4,
 "nbformat_minor": 2
}

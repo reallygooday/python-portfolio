{
 "cells": [
  {
   "cell_type": "markdown",
   "metadata": {},
   "source": [
    "\n",
    "\n",
    "\n",
    "  # Machine Learning / Supervised Learning\n",
    "\n",
    "\n",
    "## Building a Student Intervention System / Project Review\n",
    "\n",
    "> Created: 6 August 2017  \n",
    "  "
   ]
  },
  {
   "cell_type": "markdown",
   "metadata": {},
   "source": [
    " Terrific job with the report, I'm impressed with how you've stuck with it and iterated on the project to complete all the specs.\n",
    "\n",
    "And for an excellent guide to approaching almost any ML problem, you can check out this blog post by a Kaggle grandmaster.\n"
   ]
  },
  {
   "cell_type": "markdown",
   "metadata": {},
   "source": [
    "###  Classification vs Regression"
   ]
  },
  {
   "cell_type": "markdown",
   "metadata": {},
   "source": [
    "> Student is able to correctly identify which type of prediction problem is required and provided reasonable justification."
   ]
  },
  {
   "cell_type": "markdown",
   "metadata": {},
   "source": [
    "### Exploring the Data"
   ]
  },
  {
   "cell_type": "markdown",
   "metadata": {},
   "source": [
    ">\n",
    "Student response addresses the most important characteristics of the dataset and uses these characteristics to inform their decision making. Important characteristics must include:\n",
    "\n",
    "Number of data points\n",
    "Number of features\n",
    "Number of graduates\n",
    "Number of non-graduates\n",
    "Graduation rate "
   ]
  },
  {
   "cell_type": "markdown",
   "metadata": {},
   "source": [
    "Great work getting the dataset stats!"
   ]
  },
  {
   "cell_type": "markdown",
   "metadata": {},
   "source": [
    "Tip: imbalanced target classes\n",
    "As you can see we have an imbalanced proportion of \"yes\" & \"no\" labels and will want to make sure the metric we're using for model evaluation is capturing how well the model is actually doing. (more info here)\n",
    "\n",
    "In this project we use the F1 score. As a benchmark for our final model, we can use the F1 score from predicting all \"yes\" values:"
   ]
  },
  {
   "cell_type": "code",
   "execution_count": null,
   "metadata": {
    "collapsed": true
   },
   "outputs": [],
   "source": [
    "from sklearn.metrics import f1_score\n",
    "print \"\\nF1 score for predicting all 'yes': {:.4f}\".format(\n",
    "    f1_score(y_true = ['yes']*n_passed + ['no']*n_failed, y_pred = ['yes']*n_students, pos_label='yes', average='binary'))"
   ]
  },
  {
   "cell_type": "code",
   "execution_count": null,
   "metadata": {
    "collapsed": true
   },
   "outputs": [],
   "source": [
    "F1 score for predicting all 'yes': 0.8030"
   ]
  },
  {
   "cell_type": "markdown",
   "metadata": {},
   "source": [
    "### Preparing the Data"
   ]
  },
  {
   "cell_type": "markdown",
   "metadata": {},
   "source": [
    "> \n",
    "Code has been executed in the iPython notebook, with proper output and no errors."
   ]
  },
  {
   "cell_type": "markdown",
   "metadata": {},
   "source": [
    "All the code runs well."
   ]
  },
  {
   "cell_type": "markdown",
   "metadata": {},
   "source": [
    " Pro tip: exploratory analysis\n",
    "Although the project template doesn't go into exploratory data analysis (EDA) that much, it's usually a big part of any data analysis project.\n",
    "\n",
    "One nice method to explore is factor plots in seaborn — for example, below you can see the counts of students who passed & failed, with a breakdown by the features \"failures\" and \"paid\"..."
   ]
  },
  {
   "cell_type": "code",
   "execution_count": null,
   "metadata": {
    "collapsed": true
   },
   "outputs": [],
   "source": [
    "%matplotlib inline\n",
    "import seaborn as sns\n",
    "sns.factorplot(\"failures\", col=\"paid\", data=student_data, hue='passed', kind=\"count\");"
   ]
  },
  {
   "attachments": {
    "index.png": {
     "image/png": "[encoded data removed]"
    }
   },
   "cell_type": "markdown",
   "metadata": {},
   "source": [
    "![index.png](attachment:index.png)"
   ]
  },
  {
   "cell_type": "markdown",
   "metadata": {},
   "source": [
    "> Training and test sets have been generated by randomly sampling the overall dataset."
   ]
  },
  {
   "cell_type": "markdown",
   "metadata": {},
   "source": [
    "### Training and Evaluating Models"
   ]
  },
  {
   "cell_type": "markdown",
   "metadata": {},
   "source": [
    "> Three supervised models are chosen with reasonable justification. Pros and cons for the use of each model are provided, along with discussion of general applications for each model.\n",
    "\n",
    "Please list out all references you use while stating your pros and cons for the various models."
   ]
  },
  {
   "cell_type": "markdown",
   "metadata": {},
   "source": [
    "Good discussion of the 3 models and why you chose them. \n",
    "\n",
    "As you've discovered, there are several issues to consider in choosing a machine learning algorithm for your problem.\n",
    "In general, with model selection it's often a good idea to try out simpler methods like Logistic Regression or Naive Bayes as a benchmark, and then move on to non-linear classifiers such as your choice of Decision Trees and ensemble methods."
   ]
  },
  {
   "cell_type": "markdown",
   "metadata": {},
   "source": [
    "> \n",
    "All the required time and F1 scores for each model and training set sizes are provided within the chart given. The performance metrics are reasonable relative to other models measured."
   ]
  },
  {
   "cell_type": "markdown",
   "metadata": {},
   "source": [
    "Excellent job generating the results and displaying them in tabular format!\n",
    "\n",
    "However, while it's fine to experiment with model tuning at this point, results should ideally also be displayed for the performance of each model using its default parameters to see how well they work without any adjustments."
   ]
  },
  {
   "cell_type": "markdown",
   "metadata": {},
   "source": [
    "### Choosing the Best Model"
   ]
  },
  {
   "cell_type": "markdown",
   "metadata": {},
   "source": [
    "> Justification is provided for which model seems to be the best by comparing the computational cost and accuracy of each model."
   ]
  },
  {
   "cell_type": "markdown",
   "metadata": {},
   "source": [
    "> Student is able to clearly and concisely describe how the optimal model works in laymen terms to someone what is not familiar with machine learning nor has a technical background."
   ]
  },
  {
   "cell_type": "markdown",
   "metadata": {},
   "source": [
    "Nice job explaining the model, although it could be explained a bit further for a non-technical audience — remember, your audience is a school board that won't even know basic ML concepts like features and classes.\n",
    "\n",
    "For example...\n",
    "\n",
    "Random Forest is an ensemble method that uses several simple classifiers called \"decision trees\" to make a prediction about whether a student will pass or not.\n",
    "A single decision tree uses \"features\" we have about previous students who already passed or failed (eg, age, sex, parental situation, etc) to essentially create a flowchart... <<ADD YOUR OWN DISCUSSION>>\n",
    "In our case there are 30 such \"features\" on which decision tree rules can be formed. The Random Forest model builds several decision trees using random subsets of... <<ADD YOUR OWN DISCUSSION>>\n",
    "To predict whether a new student will pass, the Random Forest looks at that student's information and makes a prediction using each simple decision tree... <<ADD YOUR OWN DISCUSSION>>\n",
    "For example if our Random Forest used 100 trees, and 75 of them predict passed = 'yes' and 25 predict passed = 'no', then the model will predict... <<ADD YOUR OWN DISCUSSION>>"
   ]
  },
  {
   "cell_type": "markdown",
   "metadata": {},
   "source": [
    "See below for more ideas on explaining random forests:\n",
    "\n",
    "https://www.quora.com/What-is-an-intuitive-explanation-of-a-decision-tree\n",
    "https://www.quora.com/How-does-randomization-in-a-random-forest-work\n",
    "http://blog.yhat.com/posts/python-random-forest.html"
   ]
  },
  {
   "cell_type": "markdown",
   "metadata": {},
   "source": [
    "> \n",
    "The final model chosen is correctly tuned using gridsearch with at least one parameter using at least three settings. If the model does not need any parameter tuning it is explicitly stated with reasonable justification."
   ]
  },
  {
   "cell_type": "markdown",
   "metadata": {},
   "source": [
    "Great job tuning the classifier. \n",
    "\n",
    "After the grid search, you could also output the best parameters found using something like grid_obj.best_params_ or simply print clf."
   ]
  },
  {
   "cell_type": "markdown",
   "metadata": {},
   "source": [
    "> The F1 score is provided from the tuned model and performs approximately as well or better than the default model chosen."
   ]
  },
  {
   "cell_type": "markdown",
   "metadata": {},
   "source": [
    "Good discussion of the performance of the tuned model, and congrats on improving the F1 test score."
   ]
  },
  {
   "cell_type": "markdown",
   "metadata": {},
   "source": [
    " Pro tip: randomized search\n",
    "For future reference, another common parameter tuning approach to try out is randomized search.\n",
    "\n",
    "With sklearn's RandomizedSearchCV method you can often get comparable results at a much lower run time."
   ]
  },
  {
   "cell_type": "markdown",
   "metadata": {},
   "source": [
    "### Quality of Code"
   ]
  },
  {
   "cell_type": "markdown",
   "metadata": {},
   "source": [
    "> \n",
    "Code reflects the description in the documentation."
   ]
  },
  {
   "cell_type": "markdown",
   "metadata": {},
   "source": [
    "Tip: feature selection\n",
    "Another common step performed in machine learning experiments is feature selection, where we can find out how a model performs if we only use a subset of all the available features.\n",
    "\n",
    "To see this dynamic in action with a much larger dataset, check out the template for another supervised learning project..."
   ]
  },
  {
   "attachments": {
    "index-1.png": {
     "image/png": "[encoded data removed]"
    }
   },
   "cell_type": "markdown",
   "metadata": {},
   "source": [
    "![index-1.png](attachment:index-1.png)"
   ]
  },
  {
   "cell_type": "markdown",
   "metadata": {},
   "source": [
    "...(above training plots are just an example and don't use your model choices)."
   ]
  }
 ],
 "metadata": {
  "kernelspec": {
   "display_name": "Python 2",
   "language": "python",
   "name": "python2"
  },
  "language_info": {
   "codemirror_mode": {
    "name": "ipython",
    "version": 2
   },
   "file_extension": ".py",
   "mimetype": "text/x-python",
   "name": "python",
   "nbconvert_exporter": "python",
   "pygments_lexer": "ipython2",
   "version": "2.7.13"
  }
 },
 "nbformat": 4,
 "nbformat_minor": 2
}
